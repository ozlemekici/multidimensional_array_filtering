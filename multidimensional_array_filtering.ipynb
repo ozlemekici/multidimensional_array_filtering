{
 "cells": [
  {
   "cell_type": "markdown",
   "metadata": {},
   "source": [
    "### Initial Part\n",
    "We have defined a 3D, 3x2x4 numpy array named `array_3D`."
   ]
  },
  {
   "cell_type": "code",
   "execution_count": 1,
   "metadata": {},
   "outputs": [
    {
     "name": "stdout",
     "output_type": "stream",
     "text": [
      "Our array:  [[[ 0  1  2  3]\n",
      "  [ 4  5  6  7]]\n",
      "\n",
      " [[ 8  9 10 11]\n",
      "  [12 13 14 15]]\n",
      "\n",
      " [[16 17 18 19]\n",
      "  [20 21 22 23]]]\n",
      "Dimensions of our array:  (3, 2, 4)\n",
      "Our array has a size of  3  pieces.\n"
     ]
    }
   ],
   "source": [
    "import numpy as np\n",
    "array_3B = np.arange(0,24).reshape(3,2,4)\n",
    "print(\"Our array: \",array_3B)\n",
    "print(\"Dimensions of our array: \",array_3B.shape)\n",
    "print(\"Our array has a size of \",array_3B.ndim,\" pieces.\")"
   ]
  },
  {
   "cell_type": "markdown",
   "metadata": {},
   "source": [
    "Let's consider the first axis (dimension) of this array as \"floors\", the second axis as \"apartments\", and the third axis as \"rooms\". It has three floors ([0],[1], [2]) and two apartments(left[0], right[1]) on each floor. Each apartment has four rooms (living room[0], bedroom[1], kitchen[2], bathroom[3]). There are 3x2x4 = 24 rooms in total, and the values we give are the number of tables in each room."
   ]
  },
  {
   "cell_type": "code",
   "execution_count": 2,
   "metadata": {},
   "outputs": [
    {
     "name": "stdout",
     "output_type": "stream",
     "text": [
      "Number of 'floors' on the first axis:  3\n",
      "Number of 'apartments' on the second axis:  2\n",
      "Number of 'rooms' on the third axis:  4\n"
     ]
    }
   ],
   "source": [
    "print(\"Number of 'floors' on the first axis: \",array_3B.shape[0])\n",
    "print(\"Number of 'apartments' on the second axis: \",array_3B.shape[1])\n",
    "print(\"Number of 'rooms' on the third axis: \",array_3B.shape[2])"
   ]
  },
  {
   "cell_type": "markdown",
   "metadata": {},
   "source": [
    "Let's get, in one row, the number of tables (_or fridge magnet_) in the kitchens of each right apartment on each floor."
   ]
  },
  {
   "cell_type": "code",
   "execution_count": 3,
   "metadata": {},
   "outputs": [
    {
     "name": "stdout",
     "output_type": "stream",
     "text": [
      "The number of magnets in the kitchen of the right apartments on each floor :  [ 6 14 22]\n"
     ]
    }
   ],
   "source": [
    "print(\"The number of magnets in the kitchen of the right apartments on each floor : \",array_3B[0:3,1,2])"
   ]
  },
  {
   "cell_type": "markdown",
   "metadata": {},
   "source": [
    "Let's list the apartments with more than 3 magnets in their kitchens."
   ]
  },
  {
   "cell_type": "code",
   "execution_count": 5,
   "metadata": {},
   "outputs": [
    {
     "name": "stdout",
     "output_type": "stream",
     "text": [
      "Apartments with more than 3 magnets in their kitchens [[5], [9], [13], [17], [21]]\n"
     ]
    }
   ],
   "source": [
    "array_3B_filter = array_3B[array_3B[:,:,2] > 3]\n",
    "# Just to get the apartment numbers:\n",
    "array_3B_apartments = np.delete(array_3B_filter,[0,2,3],1)\n",
    "print(\"Apartments with more than 3 magnets in their kitchens\", array_3B_apartments.tolist())"
   ]
  },
  {
   "cell_type": "markdown",
   "metadata": {},
   "source": [
    "**Bonus**: Let's define the values of a 3-dimensional array as the sum of the indices of each respective cell. For example: array_3B will be [0,1,2] --> 3."
   ]
  },
  {
   "cell_type": "code",
   "execution_count": 6,
   "metadata": {},
   "outputs": [
    {
     "name": "stdout",
     "output_type": "stream",
     "text": [
      "Our array : [[[0. 1. 2. 3.]\n",
      "  [1. 2. 3. 4.]]\n",
      "\n",
      " [[1. 2. 3. 4.]\n",
      "  [2. 3. 4. 5.]]\n",
      "\n",
      " [[2. 3. 4. 5.]\n",
      "  [3. 4. 5. 6.]]]\n"
     ]
    }
   ],
   "source": [
    "array_3B = np.empty([3,2,4])\n",
    "for first_axis in np.arange(array_3B.shape[0]):\n",
    "    for second_axis in np.arange(array_3B.shape[1]):\n",
    "        for third_axis in np.arange(array_3B.shape[2]):\n",
    "            array_3B [first_axis,second_axis,third_axis] = first_axis + second_axis + third_axis\n",
    "print(\"Our array :\", array_3B)"
   ]
  },
  {
   "cell_type": "markdown",
   "metadata": {},
   "source": [
    "### Second Part\n",
    "Let's have an _ugly_ array like `a = np.array([ 1,  7, 10, 12,  0,  9,  2,  0,  0,  8, 10, 14,  5, 14,  5, 4, 14, 5,  1,  5,  9,  4, 12])` Let's discard those less than 5 and those greater than 10 from this array."
   ]
  },
  {
   "cell_type": "code",
   "execution_count": 8,
   "metadata": {},
   "outputs": [
    {
     "name": "stdout",
     "output_type": "stream",
     "text": [
      "greater than 5 and less than 10 :  [7, 9, 8, 9]\n"
     ]
    }
   ],
   "source": [
    "a = np.array([ 1,  7, 10, 12,  0,  9,  2,  0,  0,  8, 10, 14,  5, 14,  5, 4, 14, 5,  1,  5,  9,  4, 12])\n",
    "a_filter = list(s for s in a if s>5 and s<10)\n",
    "print(\"greater than 5 and less than 10 : \",a_filter)"
   ]
  }
 ],
 "metadata": {
  "kernelspec": {
   "display_name": "Python 3 (ipykernel)",
   "language": "python",
   "name": "python3"
  },
  "language_info": {
   "codemirror_mode": {
    "name": "ipython",
    "version": 3
   },
   "file_extension": ".py",
   "mimetype": "text/x-python",
   "name": "python",
   "nbconvert_exporter": "python",
   "pygments_lexer": "ipython3",
   "version": "3.7.7"
  }
 },
 "nbformat": 4,
 "nbformat_minor": 4
}
